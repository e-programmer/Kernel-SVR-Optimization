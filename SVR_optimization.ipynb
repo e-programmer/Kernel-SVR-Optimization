{
  "cells": [
    {
      "cell_type": "markdown",
      "metadata": {
        "id": "7QUFkRyzcBUj"
      },
      "source": [
        "Importing libraries"
      ]
    },
    {
      "cell_type": "code",
      "execution_count": 3,
      "metadata": {
        "id": "JcWahW-5b0_S"
      },
      "outputs": [],
      "source": [
        "import numpy as np\n",
        "import pandas as pd\n",
        "import matplotlib.pyplot as plt"
      ]
    },
    {
      "cell_type": "markdown",
      "metadata": {
        "id": "W7ldorHfcMfi"
      },
      "source": [
        "Import the dataset"
      ]
    },
    {
      "cell_type": "code",
      "execution_count": 4,
      "metadata": {
        "id": "Ujrt_4Tub_g1"
      },
      "outputs": [],
      "source": [
        "dataset= pd.read_csv('train.csv')\n",
        "X= dataset.iloc[:,:-1].values\n",
        "y= dataset.iloc[:, -1].values"
      ]
    },
    {
      "cell_type": "code",
      "execution_count": 5,
      "metadata": {
        "colab": {
          "base_uri": "https://localhost:8080/"
        },
        "id": "_dktUkKcthYp",
        "outputId": "7cc89566-dd0f-40e4-f7dd-d175db5f95b9"
      },
      "outputs": [
        {
          "name": "stdout",
          "output_type": "stream",
          "text": [
            "81\n",
            "5315.75\n",
            "5315\n"
          ]
        }
      ],
      "source": [
        "print(X.shape[1])\n",
        "print(X.shape[0]*0.25)\n",
        "print(int(X.shape[0]*0.25))"
      ]
    },
    {
      "cell_type": "markdown",
      "metadata": {
        "id": "yhkTjYA0cAK4"
      },
      "source": [
        "Splitting the data into training and test sets"
      ]
    },
    {
      "cell_type": "code",
      "execution_count": 6,
      "metadata": {
        "id": "yfE0GRlqclj1"
      },
      "outputs": [],
      "source": [
        "from sklearn.model_selection import train_test_split\n",
        "X_train, X_test, y_train, y_test= train_test_split(X, y, test_size=0.25, random_state=0)"
      ]
    },
    {
      "cell_type": "markdown",
      "metadata": {
        "id": "AQI1ImL2dnoV"
      },
      "source": [
        "Applying Standard Scaling"
      ]
    },
    {
      "cell_type": "code",
      "execution_count": 7,
      "metadata": {
        "id": "TUAMsGO0dqcx"
      },
      "outputs": [],
      "source": [
        "from sklearn.preprocessing import StandardScaler\n",
        "sc= StandardScaler()\n",
        "X_train= sc.fit_transform(X_train)\n",
        "X_test= sc.transform(X_test)"
      ]
    },
    {
      "cell_type": "markdown",
      "metadata": {
        "id": "qphXTiDUdOOM"
      },
      "source": [
        "Applying PCA"
      ]
    },
    {
      "cell_type": "code",
      "execution_count": 8,
      "metadata": {
        "id": "YayJVpBqdSGu"
      },
      "outputs": [],
      "source": [
        "from sklearn.decomposition import PCA\n",
        "pca= PCA(n_components='mle')\n",
        "X_train= pca.fit_transform(X_train)\n",
        "X_test= pca.transform(X_test)"
      ]
    },
    {
      "cell_type": "markdown",
      "metadata": {
        "id": "f2z77q0PeRAa"
      },
      "source": [
        "Training the SVR Model "
      ]
    },
    {
      "cell_type": "code",
      "execution_count": 9,
      "metadata": {
        "colab": {
          "base_uri": "https://localhost:8080/"
        },
        "id": "3jNFdjBSeP_r",
        "outputId": "aafead7d-18ae-44fe-b114-b8db4e4e4e1f"
      },
      "outputs": [
        {
          "data": {
            "text/html": [
              "<style>#sk-container-id-1 {color: black;background-color: white;}#sk-container-id-1 pre{padding: 0;}#sk-container-id-1 div.sk-toggleable {background-color: white;}#sk-container-id-1 label.sk-toggleable__label {cursor: pointer;display: block;width: 100%;margin-bottom: 0;padding: 0.3em;box-sizing: border-box;text-align: center;}#sk-container-id-1 label.sk-toggleable__label-arrow:before {content: \"▸\";float: left;margin-right: 0.25em;color: #696969;}#sk-container-id-1 label.sk-toggleable__label-arrow:hover:before {color: black;}#sk-container-id-1 div.sk-estimator:hover label.sk-toggleable__label-arrow:before {color: black;}#sk-container-id-1 div.sk-toggleable__content {max-height: 0;max-width: 0;overflow: hidden;text-align: left;background-color: #f0f8ff;}#sk-container-id-1 div.sk-toggleable__content pre {margin: 0.2em;color: black;border-radius: 0.25em;background-color: #f0f8ff;}#sk-container-id-1 input.sk-toggleable__control:checked~div.sk-toggleable__content {max-height: 200px;max-width: 100%;overflow: auto;}#sk-container-id-1 input.sk-toggleable__control:checked~label.sk-toggleable__label-arrow:before {content: \"▾\";}#sk-container-id-1 div.sk-estimator input.sk-toggleable__control:checked~label.sk-toggleable__label {background-color: #d4ebff;}#sk-container-id-1 div.sk-label input.sk-toggleable__control:checked~label.sk-toggleable__label {background-color: #d4ebff;}#sk-container-id-1 input.sk-hidden--visually {border: 0;clip: rect(1px 1px 1px 1px);clip: rect(1px, 1px, 1px, 1px);height: 1px;margin: -1px;overflow: hidden;padding: 0;position: absolute;width: 1px;}#sk-container-id-1 div.sk-estimator {font-family: monospace;background-color: #f0f8ff;border: 1px dotted black;border-radius: 0.25em;box-sizing: border-box;margin-bottom: 0.5em;}#sk-container-id-1 div.sk-estimator:hover {background-color: #d4ebff;}#sk-container-id-1 div.sk-parallel-item::after {content: \"\";width: 100%;border-bottom: 1px solid gray;flex-grow: 1;}#sk-container-id-1 div.sk-label:hover label.sk-toggleable__label {background-color: #d4ebff;}#sk-container-id-1 div.sk-serial::before {content: \"\";position: absolute;border-left: 1px solid gray;box-sizing: border-box;top: 0;bottom: 0;left: 50%;z-index: 0;}#sk-container-id-1 div.sk-serial {display: flex;flex-direction: column;align-items: center;background-color: white;padding-right: 0.2em;padding-left: 0.2em;position: relative;}#sk-container-id-1 div.sk-item {position: relative;z-index: 1;}#sk-container-id-1 div.sk-parallel {display: flex;align-items: stretch;justify-content: center;background-color: white;position: relative;}#sk-container-id-1 div.sk-item::before, #sk-container-id-1 div.sk-parallel-item::before {content: \"\";position: absolute;border-left: 1px solid gray;box-sizing: border-box;top: 0;bottom: 0;left: 50%;z-index: -1;}#sk-container-id-1 div.sk-parallel-item {display: flex;flex-direction: column;z-index: 1;position: relative;background-color: white;}#sk-container-id-1 div.sk-parallel-item:first-child::after {align-self: flex-end;width: 50%;}#sk-container-id-1 div.sk-parallel-item:last-child::after {align-self: flex-start;width: 50%;}#sk-container-id-1 div.sk-parallel-item:only-child::after {width: 0;}#sk-container-id-1 div.sk-dashed-wrapped {border: 1px dashed gray;margin: 0 0.4em 0.5em 0.4em;box-sizing: border-box;padding-bottom: 0.4em;background-color: white;}#sk-container-id-1 div.sk-label label {font-family: monospace;font-weight: bold;display: inline-block;line-height: 1.2em;}#sk-container-id-1 div.sk-label-container {text-align: center;}#sk-container-id-1 div.sk-container {/* jupyter's `normalize.less` sets `[hidden] { display: none; }` but bootstrap.min.css set `[hidden] { display: none !important; }` so we also need the `!important` here to be able to override the default hidden behavior on the sphinx rendered scikit-learn.org. See: https://github.com/scikit-learn/scikit-learn/issues/21755 */display: inline-block !important;position: relative;}#sk-container-id-1 div.sk-text-repr-fallback {display: none;}</style><div id=\"sk-container-id-1\" class=\"sk-top-container\"><div class=\"sk-text-repr-fallback\"><pre>SVR()</pre><b>In a Jupyter environment, please rerun this cell to show the HTML representation or trust the notebook. <br />On GitHub, the HTML representation is unable to render, please try loading this page with nbviewer.org.</b></div><div class=\"sk-container\" hidden><div class=\"sk-item\"><div class=\"sk-estimator sk-toggleable\"><input class=\"sk-toggleable__control sk-hidden--visually\" id=\"sk-estimator-id-1\" type=\"checkbox\" checked><label for=\"sk-estimator-id-1\" class=\"sk-toggleable__label sk-toggleable__label-arrow\">SVR</label><div class=\"sk-toggleable__content\"><pre>SVR()</pre></div></div></div></div></div>"
            ],
            "text/plain": [
              "SVR()"
            ]
          },
          "execution_count": 9,
          "metadata": {},
          "output_type": "execute_result"
        }
      ],
      "source": [
        "from sklearn.svm import SVR\n",
        "svr= SVR(kernel='rbf')\n",
        "svr.fit(X_train, y_train)"
      ]
    },
    {
      "cell_type": "markdown",
      "metadata": {
        "id": "cLYCRRsje3Xf"
      },
      "source": [
        "Evaluation of SVR model"
      ]
    },
    {
      "cell_type": "code",
      "execution_count": 10,
      "metadata": {
        "colab": {
          "base_uri": "https://localhost:8080/"
        },
        "id": "s07zW_sYe5-4",
        "outputId": "2cb7d8e1-fb3c-41c2-9e3d-b26dbf5559c9"
      },
      "outputs": [
        {
          "name": "stdout",
          "output_type": "stream",
          "text": [
            "The r2 SCORE is 0.76605348786781\n"
          ]
        }
      ],
      "source": [
        "from sklearn.metrics import r2_score\n",
        "y_pred= svr.predict(X_test)\n",
        "score= r2_score(y_test, y_pred)\n",
        "print(\"The r2 SCORE is \" + str(score))"
      ]
    },
    {
      "cell_type": "markdown",
      "metadata": {
        "id": "FMwqeQnIn7kE"
      },
      "source": [
        "Using Grid search to find the optimal SVR model "
      ]
    },
    {
      "cell_type": "code",
      "execution_count": 11,
      "metadata": {
        "id": "tiUFkTMNsB1c"
      },
      "outputs": [],
      "source": [
        "from sklearn.metrics import make_scorer\n",
        "def adjustedr2(y_test, y_pred):\n",
        "  r2= r2_score(y_test, y_pred)\n",
        "  p= X.shape[1]\n",
        "  n= int(X.shape[0]*0.25)\n",
        "  adjr2= 1-(1-r2)*(n-1)/(n-p-1)\n",
        "  return adjr2\n",
        "\n",
        "adjustedr2score= make_scorer(adjustedr2, greater_is_better= True)"
      ]
    },
    {
      "cell_type": "code",
      "execution_count": 12,
      "metadata": {
        "colab": {
          "background_save": true
        },
        "id": "GAzyRH-TW_oc",
        "outputId": "cc338e24-c2de-42c3-bc2b-9aad1cda6f1a"
      },
      "outputs": [
        {
          "name": "stdout",
          "output_type": "stream",
          "text": [
            "Best adjusted r2 score: 0.8198\n",
            "Best parameters:  {'C': 1, 'coef0': 1.0, 'degree': 5, 'kernel': 'poly'}\n"
          ]
        }
      ],
      "source": [
        "from sklearn.model_selection import GridSearchCV\n",
        "parameters= [{'C': [0.25, 0.5, 0.75, 1], \"kernel\": [\"linear\"]}, \n",
        "             {'C': [0.25, 0.5, 0.75, 1], \"kernel\": [\"rbf\"], \"gamma\": [0.1, 0.2, 0.3, 0.4, 0.5, 0.6, 0.7, 0.8, 0.9]},\n",
        "             {'C': [0.25, 0.5, 0.75, 1], \"kernel\": [\"poly\"], \"degree\": [3,4,5], \n",
        "              \"coef0\": [0.0, 0.2, 0.4, 0.6, 0.8, 1.0]}]\n",
        "gridsearch= GridSearchCV(estimator= svr, param_grid= parameters, scoring= adjustedr2score,\n",
        "                         cv= 5, n_jobs= -1)\n",
        "gridsearch.fit(X_train, y_train)\n",
        "best_r2score= gridsearch.best_score_\n",
        "best_param= gridsearch.best_params_ \n",
        "print(\"Best adjusted r2 score: {:.4f}\".format(best_r2score))\n",
        "print(\"Best parameters: \", best_param)              "
      ]
    },
    {
      "cell_type": "code",
      "execution_count": 13,
      "metadata": {
        "colab": {
          "background_save": true
        },
        "id": "oiFcnl-EoBAf"
      },
      "outputs": [],
      "source": [
        "# from sklearn.model_selection import GridSearchCV\n",
        "# parameters= [{'C': [0.25, 0.5, 0.75, 1], \"kernel\": [\"linear\"], 'epsilon': [0.1, 0.2, 0.3, 0.4]}, \n",
        "#              {'C': [0.25, 0.5, 0.75, 1], \"kernel\": [\"rbf\"], \"gamma\": [0.1, 0.2, 0.3, 0.4, 0.5, 0.6, 0.7, 0.8, 0.9], \n",
        "#               'epsilon': [0.1, 0.2, 0.3, 0.4]},\n",
        "#              {'C': [0.25, 0.5, 0.75, 1], \"kernel\": [\"poly\"], \"degree\": [3,4,5,6,7,8,9,10], \n",
        "#               \"coef0\": [0.0, 0.2, 0.4, 0.6, 0.8, 1.0], 'epsilon': [0.1, 0.2, 0.3, 0.4]}]\n",
        "# gridsearch= GridSearchCV(estimator= svr, param_grid= parameters, scoring= make_scorer(adjustedr2, greater_is_better= True),\n",
        "#                          cv= 5, n_jobs= -1)\n",
        "# gridsearch.fit(X_train, y_train)\n",
        "# best_r2score= gridsearch.best_score_\n",
        "# best_param= gridsearch.best_params_ \n",
        "# print(\"Best r2 score: {:.4f}\".format(best_r2score))\n",
        "# print(\"Best parameters: \", best_param)              "
      ]
    },
    {
      "cell_type": "code",
      "execution_count": 14,
      "metadata": {
        "colab": {
          "background_save": true
        },
        "id": "6YEAytbLk_85"
      },
      "outputs": [],
      "source": [
        "# comp= [2,3]\n",
        "\n",
        "# for i in comp:\n",
        "#   pca= PCA(n_components=comp[i-1])\n",
        "#   X_train= pca.fit_transform(X_train)\n",
        "#   X_test= pca.transform(X_test)\n",
        "#   svr.fit(X_train, y_train)\n",
        "#   y_pred= svr.predict(X_test)\n",
        "#   score= r2_score(y_test, y_pred)\n",
        "#   print(\"For \"+ str(comp[i]) +\" components\")\n",
        "#   print(\"The r2 SCORE is \" + str(score))"
      ]
    }
  ],
  "metadata": {
    "colab": {
      "collapsed_sections": [],
      "provenance": []
    },
    "kernelspec": {
      "display_name": "Python 3.9.13 ('notebook.venv')",
      "language": "python",
      "name": "python3"
    },
    "language_info": {
      "codemirror_mode": {
        "name": "ipython",
        "version": 3
      },
      "file_extension": ".py",
      "mimetype": "text/x-python",
      "name": "python",
      "nbconvert_exporter": "python",
      "pygments_lexer": "ipython3",
      "version": "3.9.13"
    },
    "vscode": {
      "interpreter": {
        "hash": "88bab84d86e92fb50d057741108cd112a22fe83c877aa87cdc5d850608cb04a8"
      }
    }
  },
  "nbformat": 4,
  "nbformat_minor": 0
}
